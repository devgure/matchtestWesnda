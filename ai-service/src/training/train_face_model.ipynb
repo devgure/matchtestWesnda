# Jupyter Notebook
import face_recognition
import numpy as np
import os

known_encodings = []
known_names = []

for file in os.listdir("dataset/"):
    image = face_recognition.load_image_file(f"dataset/{file}")
    encoding = face_recognition.face_encodings(image)[0]
    known_encodings.append(encoding)
    known_names.append(file.split("_")[0])

np.save("model/encodings.npy", known_encodings)
np.save("model/names.npy", known_names)
print("Model trained!")